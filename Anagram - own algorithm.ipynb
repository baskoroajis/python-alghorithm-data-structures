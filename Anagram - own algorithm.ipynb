{
 "cells": [
  {
   "cell_type": "markdown",
   "metadata": {},
   "source": [
    "Anagram is check for two array is same or not if randomly switch for each element\n",
    "for example DOG = GOD\n",
    "\n",
    "alghoritm :\n",
    "- declare for Array A & Array B\n",
    "- declare method checkAnagram() return boolean is_anagram\n",
    "- change element to the lowercase first and remove whitespace\n",
    "- check is length same, if not then not anagram\n",
    "- if length same then check for each element, if match with each other than anagram is true\n",
    "    (Detail step)\n",
    "    - iterate array A, \n",
    "        - then check \n",
    "        if element match with one of the element Array B, remove those element in Array B. go to the next iteration\n",
    "        else return false for the method\n",
    "    - in the end of method return true\n",
    " \n",
    " "
   ]
  },
  {
   "cell_type": "code",
   "execution_count": 74,
   "metadata": {},
   "outputs": [],
   "source": [
    "arrA = \"Baskoro aji\"\n",
    "arrB = \"ijA baskoro\"\n",
    "\n",
    "\n",
    "def is_anagram(obj1, obj2):\n",
    "    new_obj = remove_whitespace_and_lower(obj1)\n",
    "    new_obj2 = remove_whitespace_and_lower(obj2)\n",
    "   \n",
    "    #check for length\n",
    "    if  len(new_obj) != len(new_obj2):\n",
    "        return False\n",
    "   \n",
    "    #then check for each element\n",
    "    for el in new_obj:\n",
    "        contain_numb = is_contain_element(el, new_obj2)\n",
    "       \n",
    "        if contain_numb == -1:\n",
    "            #this is not anagram because found no match \n",
    "            return False\n",
    "        else:\n",
    "            #found match then iterate again until end of element\n",
    "            tempObj =  new_obj2[0:contain_numb:] + new_obj2[contain_numb + 1::] #new_obj2.replace(el,\"\")\n",
    "            new_obj2 = tempObj\n",
    "    \n",
    "    return True\n",
    "        \n",
    "\n",
    "def is_contain_element(el, array):\n",
    "    idx = -1\n",
    "    for element in array:\n",
    "        idx = idx + 1\n",
    "        if element == el:\n",
    "            return idx\n",
    "        \n",
    "    return -1\n",
    "\n",
    "\n",
    "def remove_whitespace_and_lower(obj):\n",
    "    lower = obj.lower()\n",
    "    rmv_whitespce = lower.replace(\" \",\"\")\n",
    "    return rmv_whitespce\n",
    "\n",
    "\n"
   ]
  },
  {
   "cell_type": "code",
   "execution_count": 77,
   "metadata": {},
   "outputs": [
    {
     "data": {
      "text/plain": [
       "False"
      ]
     },
     "execution_count": 77,
     "metadata": {},
     "output_type": "execute_result"
    }
   ],
   "source": [
    "is_anagram(\"Bsa0oroojis\",\"ijA sabkoros\")"
   ]
  },
  {
   "cell_type": "code",
   "execution_count": null,
   "metadata": {},
   "outputs": [],
   "source": []
  }
 ],
 "metadata": {
  "kernelspec": {
   "display_name": "Python 3",
   "language": "python",
   "name": "python3"
  },
  "language_info": {
   "codemirror_mode": {
    "name": "ipython",
    "version": 3
   },
   "file_extension": ".py",
   "mimetype": "text/x-python",
   "name": "python",
   "nbconvert_exporter": "python",
   "pygments_lexer": "ipython3",
   "version": "3.7.4"
  }
 },
 "nbformat": 4,
 "nbformat_minor": 2
}
