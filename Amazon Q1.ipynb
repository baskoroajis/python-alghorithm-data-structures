{
 "cells": [
  {
   "cell_type": "code",
   "execution_count": 9,
   "metadata": {},
   "outputs": [],
   "source": [
    "def profit2(stock_prices):\n",
    "    \n",
    "    # Check length\n",
    "    if len(stock_prices) < 2:\n",
    "        raise Exception('Need at least two stock prices!')\n",
    "    \n",
    "    # Start minimum price marker at first price\n",
    "    min_stock_price = stock_prices[0]\n",
    "    \n",
    "    # Start off with an initial max profit\n",
    "    max_profit = stock_prices[1] - stock_prices[0]\n",
    "    \n",
    "    # Skip first index of 0\n",
    "    for price in stock_prices[1:]:\n",
    "        \n",
    "        \n",
    "        # NOTE THE REORDERING HERE DUE TO THE NEGATIVE PROFIT TRACKING\n",
    "        \n",
    "        # Check the current price against our minimum for a profit \n",
    "        # comparison against the max_profit\n",
    "        comparison_profit = price - min_stock_price\n",
    "        \n",
    "        # Compare against our max_profit so far\n",
    "        max_profit = max(max_profit,comparison_profit)\n",
    "        \n",
    "        # Check to set the lowest stock price so far\n",
    "        min_stock_price = min(min_stock_price,price)\n",
    "        \n",
    "    return max_profit\n"
   ]
  },
  {
   "cell_type": "code",
   "execution_count": 11,
   "metadata": {},
   "outputs": [
    {
     "data": {
      "text/plain": [
       "-1"
      ]
     },
     "execution_count": 11,
     "metadata": {},
     "output_type": "execute_result"
    }
   ],
   "source": [
    "profit2([10,9,8])"
   ]
  },
  {
   "cell_type": "code",
   "execution_count": 47,
   "metadata": {},
   "outputs": [],
   "source": [
    "def test1(arr):\n",
    "    output = [None] * len(arr)\n",
    "    print(output)\n",
    "\n",
    "    # for i in range(0,len(arr)):"
   ]
  },
  {
   "cell_type": "code",
   "execution_count": 48,
   "metadata": {},
   "outputs": [
    {
     "name": "stdout",
     "output_type": "stream",
     "text": [
      "[None, None, None]\n"
     ]
    }
   ],
   "source": [
    "test1([1,2,3])"
   ]
  },
  {
   "cell_type": "code",
   "execution_count": 53,
   "metadata": {},
   "outputs": [],
   "source": [
    "def test2():\n",
    "    print(max([1,3,4,8]))"
   ]
  },
  {
   "cell_type": "code",
   "execution_count": 54,
   "metadata": {},
   "outputs": [
    {
     "name": "stdout",
     "output_type": "stream",
     "text": [
      "8\n"
     ]
    }
   ],
   "source": [
    "test2()"
   ]
  },
  {
   "cell_type": "code",
   "execution_count": null,
   "metadata": {},
   "outputs": [],
   "source": []
  }
 ],
 "metadata": {
  "kernelspec": {
   "display_name": "Python 3",
   "language": "python",
   "name": "python3"
  },
  "language_info": {
   "codemirror_mode": {
    "name": "ipython",
    "version": 3
   },
   "file_extension": ".py",
   "mimetype": "text/x-python",
   "name": "python",
   "nbconvert_exporter": "python",
   "pygments_lexer": "ipython3",
   "version": "3.7.4"
  }
 },
 "nbformat": 4,
 "nbformat_minor": 2
}
