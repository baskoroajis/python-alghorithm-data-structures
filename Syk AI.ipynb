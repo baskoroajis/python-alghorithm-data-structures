{
 "cells": [
  {
   "cell_type": "markdown",
   "metadata": {},
   "source": [
    "compare between two array, if two array match with each other return true,else return false\n"
   ]
  },
  {
   "cell_type": "code",
   "execution_count": 4,
   "metadata": {},
   "outputs": [],
   "source": [
    "def check_two_array(arr1,arr2):\n",
    "    temp_dict = {}\n",
    "    for el in arr1:\n",
    "        if el in temp_dict:\n",
    "            temp_dict[el] += 1\n",
    "        else:\n",
    "            temp_dict[el] = 1\n",
    "    for el in arr2:\n",
    "        if el in temp_dict:\n",
    "            temp_dict[el] -= 1\n",
    "    \n",
    "    for el in temp_dict:\n",
    "        if temp_dict[el] != 0:\n",
    "            return False\n",
    "    \n",
    "    return True\n",
    "\n",
    "\n"
   ]
  },
  {
   "cell_type": "code",
   "execution_count": 18,
   "metadata": {},
   "outputs": [],
   "source": [
    "#other solution\n",
    "def check_two_array_match(arr1,arr2):\n",
    "    countArr = len(arr1)\n",
    "  \n",
    "    if countArr is not len(arr2):\n",
    "        return False\n",
    "    else:\n",
    "        for el in arr1:\n",
    "            for el_arr2 in arr2:\n",
    "                if el == el_arr2:\n",
    "                    countArr -=1\n",
    "                    break\n",
    "  \n",
    "    if countArr == 0:\n",
    "        return True\n",
    "    else:\n",
    "        return False"
   ]
  },
  {
   "cell_type": "code",
   "execution_count": 19,
   "metadata": {},
   "outputs": [
    {
     "name": "stdout",
     "output_type": "stream",
     "text": [
      "count 1  3\n",
      "count  0\n",
      "True\n"
     ]
    }
   ],
   "source": [
    "is_match = check_two_array_match([\"baskoro\",\"aji\",\"aji\"],[\"aji\",\"baskoro\",\"aji\"])\n",
    "print(is_match)"
   ]
  },
  {
   "cell_type": "code",
   "execution_count": null,
   "metadata": {},
   "outputs": [],
   "source": []
  }
 ],
 "metadata": {
  "kernelspec": {
   "display_name": "Python 3",
   "language": "python",
   "name": "python3"
  },
  "language_info": {
   "codemirror_mode": {
    "name": "ipython",
    "version": 3
   },
   "file_extension": ".py",
   "mimetype": "text/x-python",
   "name": "python",
   "nbconvert_exporter": "python",
   "pygments_lexer": "ipython3",
   "version": "3.7.4"
  }
 },
 "nbformat": 4,
 "nbformat_minor": 2
}
