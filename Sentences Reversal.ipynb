{
 "cells": [
  {
   "cell_type": "markdown",
   "metadata": {},
   "source": [
    "create method that reverse string by sentences\n",
    "for example \"saya mau makan\" -> 'makan mau saya'"
   ]
  },
  {
   "cell_type": "code",
   "execution_count": null,
   "metadata": {},
   "outputs": [],
   "source": [
    "def sentences_revesal(string_to_reverse):\n",
    "    string_to_reverse = string_to_reverse.strip()\n",
    "    reverse_list = string_to_reverse.split()\n",
    "    reverse_list.reverse()\n",
    "    whitespace = \" \"\n",
    "    string_reversed = whitespace.join(reverse_list)\n",
    "    return string_reversed\n",
    "        "
   ]
  },
  {
   "cell_type": "code",
   "execution_count": 15,
   "metadata": {},
   "outputs": [
    {
     "data": {
      "text/plain": [
       "'sekali bahagia saya ini hari'"
      ]
     },
     "execution_count": 15,
     "metadata": {},
     "output_type": "execute_result"
    }
   ],
   "source": [
    "sentences_revesal(\"    hari  ini saya bahagia sekali  \")"
   ]
  },
  {
   "cell_type": "markdown",
   "metadata": {},
   "source": [
    "# Manual strip string solution and manual reverse solution"
   ]
  },
  {
   "cell_type": "code",
   "execution_count": 40,
   "metadata": {},
   "outputs": [],
   "source": [
    "def get_strip_reverse_sentences(sentences):\n",
    "    whitespaces = \" \"\n",
    "    i = 0\n",
    "    sentences_length = len(sentences)\n",
    "    new_sentences = []\n",
    "    while i < sentences_length:\n",
    "        if sentences[i] not in whitespaces:\n",
    "            start_index = i\n",
    "            \n",
    "            while i < sentences_length and sentences[i] not in whitespaces: \n",
    "                i += 1\n",
    "            \n",
    "            new_sentences.append(sentences[start_index:i])\n",
    "        i+= 1\n",
    "    \n",
    "    return new_sentences[::-1]"
   ]
  },
  {
   "cell_type": "code",
   "execution_count": 41,
   "metadata": {},
   "outputs": [
    {
     "data": {
      "text/plain": [
       "['s', 'aji', 'baskoro']"
      ]
     },
     "execution_count": 41,
     "metadata": {},
     "output_type": "execute_result"
    }
   ],
   "source": [
    "get_strip_reverse_sentences(\"baskoro aji s\")"
   ]
  },
  {
   "cell_type": "code",
   "execution_count": null,
   "metadata": {},
   "outputs": [],
   "source": []
  }
 ],
 "metadata": {
  "kernelspec": {
   "display_name": "Python 3",
   "language": "python",
   "name": "python3"
  },
  "language_info": {
   "codemirror_mode": {
    "name": "ipython",
    "version": 3
   },
   "file_extension": ".py",
   "mimetype": "text/x-python",
   "name": "python",
   "nbconvert_exporter": "python",
   "pygments_lexer": "ipython3",
   "version": "3.7.4"
  }
 },
 "nbformat": 4,
 "nbformat_minor": 2
}
