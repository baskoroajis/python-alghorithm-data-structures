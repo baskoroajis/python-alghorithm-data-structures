{
 "cells": [
  {
   "cell_type": "code",
   "execution_count": 13,
   "metadata": {},
   "outputs": [],
   "source": [
    "def index_prod(lst):\n",
    "    \n",
    "    # Create an empty output list\n",
    "    output = [None] * len(lst)\n",
    "    \n",
    "    # Set initial product and index for greedy run forward\n",
    "    product = 1\n",
    "    i = 0\n",
    "    \n",
    "    while i < len(lst):\n",
    "        \n",
    "        # Set index as cumulative product\n",
    "        output[i] = product\n",
    "        print('output ',  output[i])\n",
    "        # Cumulative product\n",
    "        product *= lst[i]\n",
    "        print('product ', product)\n",
    "        # Move forward\n",
    "        i +=1\n",
    "        \n",
    "    \n",
    "    print('first output', output)\n",
    "    # Now for our Greedy run Backwards\n",
    "    product = 1\n",
    "    \n",
    "    # Start index at last (taking into account index 0)\n",
    "    i = len(lst) - 1\n",
    "    \n",
    "    # Until the beginning of the list\n",
    "    while i >=0:\n",
    "        \n",
    "        # Same operations as before, just backwards\n",
    "        #2 -> \n",
    "        output[i] *= product\n",
    "        print('output', output[i])\n",
    "        product *= lst[i]\n",
    "        print('product', product)\n",
    "        i -= 1\n",
    "     \n",
    "    print('second output ', output)\n",
    "    return output  "
   ]
  },
  {
   "cell_type": "code",
   "execution_count": 15,
   "metadata": {},
   "outputs": [
    {
     "name": "stdout",
     "output_type": "stream",
     "text": [
      "output  1\n",
      "product  1\n",
      "output  1\n",
      "product  2\n",
      "output  2\n",
      "product  20\n",
      "output  20\n",
      "product  340\n",
      "first output [1, 1, 2, 20]\n",
      "output 20\n",
      "product 17\n",
      "output 34\n",
      "product 170\n",
      "output 170\n",
      "product 340\n",
      "output 340\n",
      "product 340\n",
      "second output  [340, 170, 34, 20]\n"
     ]
    },
    {
     "data": {
      "text/plain": [
       "[340, 170, 34, 20]"
      ]
     },
     "execution_count": 15,
     "metadata": {},
     "output_type": "execute_result"
    }
   ],
   "source": [
    "index_prod([1,2,10,17])"
   ]
  },
  {
   "cell_type": "code",
   "execution_count": null,
   "metadata": {},
   "outputs": [],
   "source": []
  }
 ],
 "metadata": {
  "kernelspec": {
   "display_name": "Python 3",
   "language": "python",
   "name": "python3"
  },
  "language_info": {
   "codemirror_mode": {
    "name": "ipython",
    "version": 3
   },
   "file_extension": ".py",
   "mimetype": "text/x-python",
   "name": "python",
   "nbconvert_exporter": "python",
   "pygments_lexer": "ipython3",
   "version": "3.7.4"
  }
 },
 "nbformat": 4,
 "nbformat_minor": 2
}
