{
 "cells": [
  {
   "cell_type": "markdown",
   "metadata": {},
   "source": [
    "First solution using sorting method on list.\n",
    "this will return only one missing element on the first found.\n",
    "\n",
    "zip(), is make array to have pair based on ther index, --> arr1 = [1,2,3,4], arr2 = [1,2,3,4], zip will be (1,1),(2,2) etc\n",
    "\n",
    "then check the zip element,if found not match, then return the not matching.\n",
    "then return last index on the last method (this is when above condition not meet)\n"
   ]
  },
  {
   "cell_type": "code",
   "execution_count": 55,
   "metadata": {},
   "outputs": [],
   "source": [
    "def get_first_missing(arr1,arr2):\n",
    "    arr1.sort()\n",
    "    arr2.sort()\n",
    "    \n",
    "    for sort1,sort2 in zip(arr1,arr2):\n",
    "        print(sort1,sort2)\n",
    "        if sort1 != sort2:\n",
    "            return sort1\n",
    "    \n",
    "    return arr1[-1]\n",
    "\n",
    "    "
   ]
  },
  {
   "cell_type": "code",
   "execution_count": 56,
   "metadata": {},
   "outputs": [
    {
     "name": "stdout",
     "output_type": "stream",
     "text": [
      "1 1\n",
      "2 2\n"
     ]
    },
    {
     "data": {
      "text/plain": [
       "5"
      ]
     },
     "execution_count": 56,
     "metadata": {},
     "output_type": "execute_result"
    }
   ],
   "source": [
    "get_first_missing([2,1,5],[2,1])\n"
   ]
  },
  {
   "cell_type": "markdown",
   "metadata": {},
   "source": [
    "Second solution is using hashtable (defaultdict collection), the different default dict with general dictionary is when the key not exist this will create the key, in general dictionary it will throw an error.\n",
    "\n"
   ]
  },
  {
   "cell_type": "code",
   "execution_count": 60,
   "metadata": {},
   "outputs": [],
   "source": [
    "import collections\n",
    "def get_missing_element(arr1,arr2):\n",
    "    dictio = collections.defaultdict(int)\n",
    "    \n",
    "    for el in arr2:\n",
    "        if el not in dictio:\n",
    "            dictio[el] +=1\n",
    "    \n",
    "    for el in arr1:\n",
    "        if dictio[el] == 0:\n",
    "            return el\n",
    "        else:\n",
    "            dictio[el] -=1\n",
    "    "
   ]
  },
  {
   "cell_type": "code",
   "execution_count": 62,
   "metadata": {},
   "outputs": [
    {
     "data": {
      "text/plain": [
       "3"
      ]
     },
     "execution_count": 62,
     "metadata": {},
     "output_type": "execute_result"
    }
   ],
   "source": [
    "get_missing_element([1,3,4,7,8],[1,7,4])"
   ]
  },
  {
   "cell_type": "code",
   "execution_count": null,
   "metadata": {},
   "outputs": [],
   "source": []
  }
 ],
 "metadata": {
  "kernelspec": {
   "display_name": "Python 3",
   "language": "python",
   "name": "python3"
  },
  "language_info": {
   "codemirror_mode": {
    "name": "ipython",
    "version": 3
   },
   "file_extension": ".py",
   "mimetype": "text/x-python",
   "name": "python",
   "nbconvert_exporter": "python",
   "pygments_lexer": "ipython3",
   "version": "3.7.4"
  }
 },
 "nbformat": 4,
 "nbformat_minor": 2
}
