{
 "cells": [
  {
   "cell_type": "markdown",
   "metadata": {},
   "source": [
    "#problem, tulis fungsi (input = array int, max length dynamic), output = 1 digit int,\n",
    "#fungsi (calculate final sum all element in input int array), digit\n",
    "\n",
    "#input 1 = [1,4,7,8] -> 1+4+7+8 (20),20 is more than 1, calculate again 2+0 = 2. return 2\n",
    "\n",
    "#input 2 = [2,3,7,5]\n",
    "#input 3 = [9, 10,10000, 93742, 3746283846, 7364829347382547928375932875923875983275982375923875932]\n",
    "#input 4 = [0, 5, 100000]\n",
    "\n"
   ]
  },
  {
   "cell_type": "code",
   "execution_count": 70,
   "metadata": {},
   "outputs": [],
   "source": [
    "def calculate_element(element):\n",
    "    num = 0\n",
    "    for el in element:\n",
    "        num = num + el\n",
    "        \n",
    "    mapped_val = list(map(int, str(num)))\n",
    "    \n",
    "    if len(mapped_val) == 1:\n",
    "        return num\n",
    "    else:\n",
    "        return calculate_element(mapped_val)\n",
    "  "
   ]
  },
  {
   "cell_type": "code",
   "execution_count": 71,
   "metadata": {},
   "outputs": [
    {
     "name": "stdout",
     "output_type": "stream",
     "text": [
      "3\n"
     ]
    }
   ],
   "source": [
    "ret = calculate_element([1,2,525252, -1263])\n",
    "print(ret)"
   ]
  },
  {
   "cell_type": "code",
   "execution_count": null,
   "metadata": {},
   "outputs": [],
   "source": []
  }
 ],
 "metadata": {
  "kernelspec": {
   "display_name": "Python 3",
   "language": "python",
   "name": "python3"
  },
  "language_info": {
   "codemirror_mode": {
    "name": "ipython",
    "version": 3
   },
   "file_extension": ".py",
   "mimetype": "text/x-python",
   "name": "python",
   "nbconvert_exporter": "python",
   "pygments_lexer": "ipython3",
   "version": "3.7.4"
  }
 },
 "nbformat": 4,
 "nbformat_minor": 2
}
