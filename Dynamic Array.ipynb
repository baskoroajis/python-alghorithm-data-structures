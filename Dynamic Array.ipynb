{
 "cells": [
  {
   "cell_type": "markdown",
   "metadata": {},
   "source": [
    "init\n",
    "append\n",
    "length\n",
    "get_item\n",
    "resize_array\n",
    "make_array\n"
   ]
  },
  {
   "cell_type": "code",
   "execution_count": 29,
   "metadata": {},
   "outputs": [],
   "source": [
    "import ctypes\n",
    "\n",
    "class DynamicArray(object):\n",
    "    \n",
    "    def __init__(self):\n",
    "        self.count = 0\n",
    "        self.capacity = 1\n",
    "        self.Array = self.make_array(self.capacity)\n",
    "    \n",
    "    def __getitem__(self,index):\n",
    "        return self.Array[index]\n",
    "    \n",
    "    def __len__(self):\n",
    "        return len(self.Array)\n",
    "    \n",
    "    def append(self, element):\n",
    "        if self.capacity == self.count:\n",
    "            #do resize array\n",
    "            self.resize_array(self.capacity * 2)\n",
    "        \n",
    "        self.Array[self.count] = element\n",
    "        self.count += 1\n",
    "    \n",
    "    def resize_array(self, multiple_array_length):\n",
    "        temp_array = self.make_array(multiple_array_length)\n",
    "        \n",
    "        for idx in range(self.count):\n",
    "            temp_array[idx] = self.Array[idx]\n",
    "        \n",
    "        self.Array = temp_array\n",
    "        self.capacity = multiple_array_length\n",
    "    \n",
    "    def make_array(self, array_length):\n",
    "        return (array_length * ctypes.py_object)()\n",
    "    \n"
   ]
  },
  {
   "cell_type": "code",
   "execution_count": 33,
   "metadata": {},
   "outputs": [
    {
     "data": {
      "text/plain": [
       "4"
      ]
     },
     "execution_count": 33,
     "metadata": {},
     "output_type": "execute_result"
    }
   ],
   "source": [
    "dyn = DynamicArray()\n",
    "dyn.append(2)\n",
    "dyn.append(2)\n",
    "dyn.append(2)\n",
    "dyn.append(2)\n",
    "len(dyn)"
   ]
  },
  {
   "cell_type": "code",
   "execution_count": null,
   "metadata": {},
   "outputs": [],
   "source": []
  }
 ],
 "metadata": {
  "kernelspec": {
   "display_name": "Python 3",
   "language": "python",
   "name": "python3"
  },
  "language_info": {
   "codemirror_mode": {
    "name": "ipython",
    "version": 3
   },
   "file_extension": ".py",
   "mimetype": "text/x-python",
   "name": "python",
   "nbconvert_exporter": "python",
   "pygments_lexer": "ipython3",
   "version": "3.7.4"
  }
 },
 "nbformat": 4,
 "nbformat_minor": 2
}
