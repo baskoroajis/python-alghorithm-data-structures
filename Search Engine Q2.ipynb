{
 "cells": [
  {
   "cell_type": "code",
   "execution_count": 3,
   "metadata": {},
   "outputs": [],
   "source": [
    "from random import randint\n",
    " \n",
    "def dice5():\n",
    "    return randint(1, 5)"
   ]
  },
  {
   "cell_type": "code",
   "execution_count": 15,
   "metadata": {},
   "outputs": [],
   "source": [
    "def convert5to7():\n",
    "\n",
    "    # For constant re-roll purposes\n",
    "    while True:\n",
    "\n",
    "        # Roll the dice twice\n",
    "        roll_1 = dice5()\n",
    "        roll_2 = dice5()\n",
    "        \n",
    "        print ('The rolls were {} and {}'.format(roll_1,roll_2))\n",
    "\n",
    "        # Convert the combination to the range 1 to 25\n",
    "        num = ( (roll_1-1) * 5 ) +  ( roll_2 ) \n",
    "\n",
    "        print ('The converted range number was:',num)\n",
    "        if num > 21:\n",
    "\n",
    "            # re-roll if we are out of range\n",
    "            continue\n",
    "\n",
    "        return num %7 + 1  "
   ]
  },
  {
   "cell_type": "code",
   "execution_count": 16,
   "metadata": {},
   "outputs": [
    {
     "name": "stdout",
     "output_type": "stream",
     "text": [
      "The rolls were 4 and 2\n",
      "The converted range number was: 17\n"
     ]
    },
    {
     "data": {
      "text/plain": [
       "4"
      ]
     },
     "execution_count": 16,
     "metadata": {},
     "output_type": "execute_result"
    }
   ],
   "source": [
    "convert5to7()"
   ]
  },
  {
   "cell_type": "code",
   "execution_count": null,
   "metadata": {},
   "outputs": [],
   "source": []
  },
  {
   "cell_type": "code",
   "execution_count": null,
   "metadata": {},
   "outputs": [],
   "source": []
  }
 ],
 "metadata": {
  "kernelspec": {
   "display_name": "Python 3",
   "language": "python",
   "name": "python3"
  },
  "language_info": {
   "codemirror_mode": {
    "name": "ipython",
    "version": 3
   },
   "file_extension": ".py",
   "mimetype": "text/x-python",
   "name": "python",
   "nbconvert_exporter": "python",
   "pygments_lexer": "ipython3",
   "version": "3.7.4"
  }
 },
 "nbformat": 4,
 "nbformat_minor": 2
}
