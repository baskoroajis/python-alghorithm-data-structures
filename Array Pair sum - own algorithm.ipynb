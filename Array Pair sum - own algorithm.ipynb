{
 "cells": [
  {
   "cell_type": "markdown",
   "metadata": {},
   "source": [
    "array par sum, when an array element meet sum of conditional X, then return the list of pair\n",
    "example\n",
    "function checkPair([1,3,2,2],4) then return [1,3] and [2,2]\n",
    "\n",
    "logic\n",
    "- if length < 2 return pair not found\n",
    "- else, iterate each element in two dimensional array within same array + 1, Sum it each element\n",
    "- then store it to the new dictionary when the result of ow sum == K\n"
   ]
  },
  {
   "cell_type": "code",
   "execution_count": 76,
   "metadata": {},
   "outputs": [],
   "source": [
    "def check_pair(array_pair, k):\n",
    "    paired_element = []\n",
    "    for i in range(len(array_pair)-1):\n",
    "        a = i + 1\n",
    "        if a < (len(array_pair)-1):\n",
    "            for a in range(len(array_pair)-1):\n",
    "                sumed_val = array_pair[i] + array_pair[a]\n",
    "                if  sumed_val == k:\n",
    "                    new_element = [array_pair[i],array_pair[a]]\n",
    "                    if is_element_not_exist(paired_element, new_element) == False:\n",
    "                        paired_element.append(new_element)\n",
    "    \n",
    "    print(paired_element)\n",
    "\n",
    "def is_element_not_exist(paired_element, match_element):\n",
    "    is_match_first = False\n",
    "    is_match_second = False\n",
    "    for index in range(len(match_element)):\n",
    "        for el_paired in paired_element:\n",
    "            for idx in range(len(el_paired)):\n",
    "                if match_element[index] == el_paired[idx] and index == 0:\n",
    "                    is_match_first = True\n",
    "                if match_element[index] == el_paired[idx] and index == 1:\n",
    "                    is_match_second = True\n",
    "                    \n",
    "    return is_match_first and is_match_second\n",
    "    \n",
    "            "
   ]
  },
  {
   "cell_type": "code",
   "execution_count": 80,
   "metadata": {},
   "outputs": [
    {
     "name": "stdout",
     "output_type": "stream",
     "text": [
      "[]\n"
     ]
    }
   ],
   "source": [
    "check_pair([1,3,2,2,2,2,5],8)"
   ]
  },
  {
   "cell_type": "code",
   "execution_count": null,
   "metadata": {},
   "outputs": [],
   "source": []
  }
 ],
 "metadata": {
  "kernelspec": {
   "display_name": "Python 3",
   "language": "python",
   "name": "python3"
  },
  "language_info": {
   "codemirror_mode": {
    "name": "ipython",
    "version": 3
   },
   "file_extension": ".py",
   "mimetype": "text/x-python",
   "name": "python",
   "nbconvert_exporter": "python",
   "pygments_lexer": "ipython3",
   "version": "3.7.4"
  }
 },
 "nbformat": 4,
 "nbformat_minor": 2
}
