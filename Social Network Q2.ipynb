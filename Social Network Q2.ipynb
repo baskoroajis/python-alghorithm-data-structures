{
 "cells": [
  {
   "cell_type": "code",
   "execution_count": 2,
   "metadata": {},
   "outputs": [],
   "source": [
    "def solution(id_list):\n",
    "    \n",
    "    # Initiate unique Id\n",
    "    unique_id = 0\n",
    "    \n",
    "    # XOR fo revery id in id list\n",
    "    for i in id_list:\n",
    "        \n",
    "        # XOR operation\n",
    "        unique_id ^= i\n",
    "        print('i',i)\n",
    "        print('uniq', unique_id)\n",
    "    \n",
    "    return unique_id"
   ]
  },
  {
   "cell_type": "code",
   "execution_count": 4,
   "metadata": {},
   "outputs": [
    {
     "name": "stdout",
     "output_type": "stream",
     "text": [
      "i 2\n",
      "uniq 2\n",
      "i 1\n",
      "uniq 3\n",
      "i 1\n",
      "uniq 2\n",
      "i 2\n",
      "uniq 0\n"
     ]
    },
    {
     "data": {
      "text/plain": [
       "0"
      ]
     },
     "execution_count": 4,
     "metadata": {},
     "output_type": "execute_result"
    }
   ],
   "source": [
    "solution([2,1,1,])"
   ]
  },
  {
   "cell_type": "code",
   "execution_count": null,
   "metadata": {},
   "outputs": [],
   "source": []
  }
 ],
 "metadata": {
  "kernelspec": {
   "display_name": "Python 3",
   "language": "python",
   "name": "python3"
  },
  "language_info": {
   "codemirror_mode": {
    "name": "ipython",
    "version": 3
   },
   "file_extension": ".py",
   "mimetype": "text/x-python",
   "name": "python",
   "nbconvert_exporter": "python",
   "pygments_lexer": "ipython3",
   "version": "3.7.4"
  }
 },
 "nbformat": 4,
 "nbformat_minor": 2
}
