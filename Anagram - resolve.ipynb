{
 "cells": [
  {
   "cell_type": "markdown",
   "metadata": {},
   "source": [
    "Short answer using sorted function by python, but not really optimall on running performance"
   ]
  },
  {
   "cell_type": "code",
   "execution_count": 12,
   "metadata": {},
   "outputs": [],
   "source": [
    "def is_anagram(obj1,obj2):\n",
    "    new_obj1 = obj1.replace(\" \",\"\").lower()\n",
    "    new_obj2 = obj2.replace(\" \",\"\").lower()\n",
    "    \n",
    "    print(new_obj1)\n",
    "    print(new_obj2)\n",
    "    \n",
    "    return sorted(new_obj1) == sorted(new_obj2)\n",
    "    \n"
   ]
  },
  {
   "cell_type": "code",
   "execution_count": 11,
   "metadata": {},
   "outputs": [
    {
     "name": "stdout",
     "output_type": "stream",
     "text": [
      "basfas\n",
      "fassbas\n",
      "False\n"
     ]
    }
   ],
   "source": [
    "print(is_anagram(\"Bas fas\", \"Fassbas\"))\n"
   ]
  },
  {
   "cell_type": "markdown",
   "metadata": {},
   "source": [
    "Manual answer,using dictionary for temporary store value for each.\n",
    "\n",
    "- remove whitespace, and change uppercase\n",
    "- check for length if not same, then return false\n",
    "- make temp dictionary Z\n",
    "- iterate the array A if data no exist in dictionary Z store it to the dictionary Z ,if found same element with dictionary Z then increase element + 1 on dictionary\n",
    "- iterate the array B, substract element of dictionary z with 1 if found same\n",
    "\n",
    "- last step is iterate dictionary z, if found not == 0, then return not anagram\n",
    "\n",
    "- on last method return true\n"
   ]
  },
  {
   "cell_type": "code",
   "execution_count": 32,
   "metadata": {},
   "outputs": [],
   "source": [
    "def is_anagram2(obj1, obj2):\n",
    "    new_obj1 = obj1.replace(\" \",\"\").lower()\n",
    "    new_obj2 = obj2.replace(\" \",\"\").lower()\n",
    "    \n",
    "    temp_dict = {}\n",
    "    for el in new_obj1:\n",
    "        if el in temp_dict:\n",
    "            temp_dict[el] += 1\n",
    "        else:\n",
    "            temp_dict[el] = 1\n",
    "    \n",
    "    for el in new_obj2:\n",
    "        if el in temp_dict:\n",
    "            temp_dict[el] -= 1\n",
    "    \n",
    "    for el in temp_dict:\n",
    "        if temp_dict[el] != 0:\n",
    "            return False\n",
    "    \n",
    "    return True\n",
    "\n",
    "    "
   ]
  },
  {
   "cell_type": "code",
   "execution_count": 34,
   "metadata": {},
   "outputs": [
    {
     "data": {
      "text/plain": [
       "False"
      ]
     },
     "execution_count": 34,
     "metadata": {},
     "output_type": "execute_result"
    }
   ],
   "source": [
    "is_anagram2(\"bask\", \"ka s bs\")"
   ]
  }
 ],
 "metadata": {
  "kernelspec": {
   "display_name": "Python 3",
   "language": "python",
   "name": "python3"
  },
  "language_info": {
   "codemirror_mode": {
    "name": "ipython",
    "version": 3
   },
   "file_extension": ".py",
   "mimetype": "text/x-python",
   "name": "python",
   "nbconvert_exporter": "python",
   "pygments_lexer": "ipython3",
   "version": "3.7.4"
  }
 },
 "nbformat": 4,
 "nbformat_minor": 2
}
