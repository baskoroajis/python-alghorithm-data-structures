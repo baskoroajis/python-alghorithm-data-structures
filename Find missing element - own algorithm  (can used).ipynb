{
 "cells": [
  {
   "cell_type": "markdown",
   "metadata": {},
   "source": [
    "create function that check two array, but select element missing, then print it\n",
    "for example array A = [1,3,4,5], array B = [1,3,4]. the missing element is \"5\". then print 5\n",
    "\n",
    "\n"
   ]
  },
  {
   "cell_type": "code",
   "execution_count": 24,
   "metadata": {},
   "outputs": [],
   "source": [
    "def check_missing_element(array_a, array_b):\n",
    "    elements_dict = {}\n",
    "    \n",
    "    for el in array_a:\n",
    "        if el not in elements_dict:\n",
    "            elements_dict[el] = 1\n",
    "        else:\n",
    "            elements_dict[el] += 1\n",
    "    \n",
    "    for el in array_b:\n",
    "        if el in elements_dict:\n",
    "            elements_dict[el] -= 1\n",
    "    \n",
    "    ret_val = \"\"\n",
    "    for dicty in elements_dict:\n",
    "        if elements_dict[dicty] > 0:\n",
    "            ret_val += str(dicty)\n",
    "    \n",
    "    return int(ret_val)"
   ]
  },
  {
   "cell_type": "code",
   "execution_count": 25,
   "metadata": {},
   "outputs": [
    {
     "data": {
      "text/plain": [
       "598"
      ]
     },
     "execution_count": 25,
     "metadata": {},
     "output_type": "execute_result"
    }
   ],
   "source": [
    "check_missing_element([1,2,3,4,5,9,8],[4,1,2,3])"
   ]
  },
  {
   "cell_type": "code",
   "execution_count": null,
   "metadata": {},
   "outputs": [],
   "source": []
  }
 ],
 "metadata": {
  "kernelspec": {
   "display_name": "Python 3",
   "language": "python",
   "name": "python3"
  },
  "language_info": {
   "codemirror_mode": {
    "name": "ipython",
    "version": 3
   },
   "file_extension": ".py",
   "mimetype": "text/x-python",
   "name": "python",
   "nbconvert_exporter": "python",
   "pygments_lexer": "ipython3",
   "version": "3.7.4"
  }
 },
 "nbformat": 4,
 "nbformat_minor": 2
}
