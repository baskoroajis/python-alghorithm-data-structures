{
 "cells": [
  {
   "cell_type": "markdown",
   "metadata": {},
   "source": [
    " - create for two set,\n",
    " - looping throught seen element, seen for storing target = (K-num) when not exist on seen then add num to seen\n",
    " - when the target already on seen, then add the pair to the output set.\n",
    " \n",
    " for example : array is [1,3,2,2], then K = 4\n",
    " \n",
    " looping #1  array[0] = 1 -> target = 4-1 = (3) , there is no \"3\" on seen, then add array[0] = 1 to seen\n",
    " \n",
    " #seen = [1]\n",
    " \n",
    " looping #2  array[1] = 3 -> target = 4-3 = (1) , there is \"1\" on seen, then add target (1) and num (3) to output.\n",
    " \n",
    " #seen = [1], #outpu = [1,3]\n",
    " \n",
    " then get output set for the result.\n",
    " "
   ]
  },
  {
   "cell_type": "code",
   "execution_count": 5,
   "metadata": {},
   "outputs": [],
   "source": [
    "def get_pair_sum(array, k):\n",
    "    \n",
    "   \n",
    "    seen = set()\n",
    "    output = set()\n",
    "\n",
    "    for num in array:\n",
    "        target = k - num\n",
    "        if target not in seen:\n",
    "            seen.add(num)\n",
    "        else:\n",
    "            output.add((min(num,target),max(num,target)))\n",
    "    \n",
    "    print(output)\n",
    "    "
   ]
  },
  {
   "cell_type": "code",
   "execution_count": 7,
   "metadata": {},
   "outputs": [
    {
     "name": "stdout",
     "output_type": "stream",
     "text": [
      "{(1, 7)}\n"
     ]
    }
   ],
   "source": [
    "get_pair_sum([1,3,2,2,7],8)"
   ]
  }
 ],
 "metadata": {
  "kernelspec": {
   "display_name": "Python 3",
   "language": "python",
   "name": "python3"
  },
  "language_info": {
   "codemirror_mode": {
    "name": "ipython",
    "version": 3
   },
   "file_extension": ".py",
   "mimetype": "text/x-python",
   "name": "python",
   "nbconvert_exporter": "python",
   "pygments_lexer": "ipython3",
   "version": "3.7.4"
  }
 },
 "nbformat": 4,
 "nbformat_minor": 2
}
