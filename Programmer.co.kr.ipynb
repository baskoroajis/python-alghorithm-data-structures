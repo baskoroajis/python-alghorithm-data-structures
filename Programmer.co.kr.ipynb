{
 "cells": [
  {
   "cell_type": "code",
   "execution_count": null,
   "metadata": {},
   "outputs": [],
   "source": [
    "Problem description\n",
    "When you truncate and sort from the i th number to the j th number of the array, you want to find the k th number.\n",
    "\n",
    "For example, if array is [1, 5, 2, 6, 3, 7, 4], i = 2, j = 5, k = 3\n",
    "\n",
    "If you cut from the second to fifth of the array, it is [5, 2, 6, 3].\n",
    "Sorting the array from 1 is [2, 3, 5, 6].\n",
    "The third number in the array from 2 is 5.\n",
    "Given a two-dimensional array of elements array, [i, j, k] as commands, write a solution function to return an array of the results of applying the operation described above for all elements of the commands. Please.\n",
    "\n",
    "Limitations\n",
    "The length of array is from 1 to 100.\n",
    "Each element in array is from 1 to 100.\n",
    "The length of commands is from 1 to 50.\n",
    "Each element of commands is of length 3.\n",
    "I / O example\n",
    "array\tcommands\treturn\n",
    "[1, 5, 2, 6, 3, 7, 4]\t[[2, 5, 3], [4, 4, 1], [1, 7, 3]]\t[5, 6, 3]\n",
    "I / O Example\n",
    "Cut [1, 5, 2, 6, 3, 7, 4] from the 2nd to the 5th, and arrange them. The third digit of [2, 3, 5, 6] is 5.\n",
    "Cut [1, 5, 2, 6, 3, 7, 4] from the 4th to the 4th, and align. The first number in [6] is 6.\n",
    "Cut [1, 5, 2, 6, 3, 7, 4] from the 1st to the 7th. The third digit of [1, 2, 3, 4, 5, 6, 7] is 3.\n",
    "\n",
    "source\n",
    "\n"
   ]
  },
  {
   "cell_type": "code",
   "execution_count": 67,
   "metadata": {},
   "outputs": [],
   "source": [
    "def solution(array, commands):\n",
    "    if len(array) >= 1 and len(array) <= 100 and len(commands) >= 1 and len(commands) <= 50:\n",
    "        result_list = []\n",
    "        for command in commands:\n",
    "            if len(command) != 3:\n",
    "                return \n",
    "              #  raise Exception('not qualified! , length command not 3')\n",
    "            else:\n",
    "                for arr in array:\n",
    "                    if arr < 1 and arr > 100:\n",
    "                        return\n",
    "                        # raise Exception('not qualified array is not between 1 - 100')\n",
    "                \n",
    "                start_index = command[0] -1\n",
    "                end_index = command[1] \n",
    "                k = command[2] - 1\n",
    "                sorted_in_range = sorted(array[start_index:end_index])\n",
    "                result_list.append(sorted_in_range[k])\n",
    "        return result_list\n",
    "    else:\n",
    "        return \n",
    "#         raise Exception('not qualified !')"
   ]
  },
  {
   "cell_type": "code",
   "execution_count": 56,
   "metadata": {},
   "outputs": [
    {
     "data": {
      "text/plain": [
       "[5, 6, 3]"
      ]
     },
     "execution_count": 56,
     "metadata": {},
     "output_type": "execute_result"
    }
   ],
   "source": [
    "solution([1, 5, 2, 6, 3, 7, 4], [[2, 5, 3], [4, 4, 1], [1, 7, 3]])"
   ]
  },
  {
   "cell_type": "code",
   "execution_count": 40,
   "metadata": {},
   "outputs": [
    {
     "name": "stdout",
     "output_type": "stream",
     "text": [
      "[3, 4, 6]\n",
      "[4]\n"
     ]
    }
   ],
   "source": [
    "a = [3,6,4,7,2]\n",
    "\n",
    "b = sorted(a[0:3])\n",
    "print(b)\n",
    "print(a[2:3])"
   ]
  },
  {
   "cell_type": "code",
   "execution_count": null,
   "metadata": {},
   "outputs": [],
   "source": []
  }
 ],
 "metadata": {
  "kernelspec": {
   "display_name": "Python 3",
   "language": "python",
   "name": "python3"
  },
  "language_info": {
   "codemirror_mode": {
    "name": "ipython",
    "version": 3
   },
   "file_extension": ".py",
   "mimetype": "text/x-python",
   "name": "python",
   "nbconvert_exporter": "python",
   "pygments_lexer": "ipython3",
   "version": "3.7.4"
  }
 },
 "nbformat": 4,
 "nbformat_minor": 2
}
