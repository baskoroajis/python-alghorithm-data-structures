{
 "cells": [
  {
   "cell_type": "code",
   "execution_count": 2,
   "metadata": {},
   "outputs": [],
   "source": [
    "def solution(lst):\n",
    "    # Start at index 2 (3rd element) and assign highest and lowest \n",
    "    # based off of first two elements\n",
    "    \n",
    "    # Highest Number so far\n",
    "    high = max(lst[0],lst[1])\n",
    "    \n",
    "    # Lowest number so far\n",
    "    low = min(lst[0],lst[1])\n",
    "    \n",
    "    # Initiate Highest and lowest products of two numbers\n",
    "    high_prod2 = lst[0]*lst[1]\n",
    "    low_prod2 = lst[0]*lst[1]\n",
    "    \n",
    "    # Initiate highest product of 3 numbers\n",
    "    high_prod3 = lst[0]*lst[1]*lst[2]\n",
    "    \n",
    "    # Iterate through list\n",
    "    for num in lst[2:]:\n",
    "        \n",
    "        # Compare possible highest product of 3 numbers\n",
    "        high_prod3 = max(high_prod3,num*high_prod2,num*low_prod2)\n",
    "        \n",
    "        \n",
    "        # Check for possible new highest products of 2 numbers\n",
    "        high_prod2 = max(high_prod2,num*high,num*low)\n",
    "        \n",
    "        # Check for possible new lowest products of 2 numbers\n",
    "        low_prod2 = min(low_prod2,num*high,num*low)\n",
    "        \n",
    "        # Check for new possible high\n",
    "        high = max(high,num)\n",
    "        \n",
    "        # Check for new possible low\n",
    "        low = min(low,num)\n",
    "        \n",
    "        print('num',num)\n",
    "        print()\n",
    "        \n",
    "    return high_prod3"
   ]
  },
  {
   "cell_type": "code",
   "execution_count": 5,
   "metadata": {},
   "outputs": [
    {
     "data": {
      "text/plain": [
       "24"
      ]
     },
     "execution_count": 5,
     "metadata": {},
     "output_type": "execute_result"
    }
   ],
   "source": [
    "solution([1,2,2,2,6])"
   ]
  },
  {
   "cell_type": "code",
   "execution_count": null,
   "metadata": {},
   "outputs": [],
   "source": []
  }
 ],
 "metadata": {
  "kernelspec": {
   "display_name": "Python 3",
   "language": "python",
   "name": "python3"
  },
  "language_info": {
   "codemirror_mode": {
    "name": "ipython",
    "version": 3
   },
   "file_extension": ".py",
   "mimetype": "text/x-python",
   "name": "python",
   "nbconvert_exporter": "python",
   "pygments_lexer": "ipython3",
   "version": "3.7.4"
  }
 },
 "nbformat": 4,
 "nbformat_minor": 2
}
