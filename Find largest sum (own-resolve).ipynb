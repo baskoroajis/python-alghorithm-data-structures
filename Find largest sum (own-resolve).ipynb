{
 "cells": [
  {
   "cell_type": "markdown",
   "metadata": {},
   "source": [
    "create logic where sum continuously and array element,then return in with the largest value of the sum\n"
   ]
  },
  {
   "cell_type": "code",
   "execution_count": null,
   "metadata": {},
   "outputs": [],
   "source": [
    "def find_largest_sum(arraytosum):\n",
    "    if len(arraytosum) == 0:\n",
    "        return 0\n",
    "    \n",
    "    max_sum = current_sum = arraytosum[0]\n",
    "    \n",
    "    for el in arraytosum[1:]:\n",
    "        #use max for dealing with current sum < el, flag the negatif \"el\"\n",
    "        current_sum = max(current_sum + el, el)\n",
    "        \n",
    "        #use max for determine max_sum vs current_sum\n",
    "        max_sum = max(max_sum, current_sum)\n",
    "        \n",
    "        print('current sum ',current_sum)\n",
    "        print('max sum ',max_sum)\n",
    "    \n",
    "    return max_sum\n",
    "\n",
    "        \n",
    "        "
   ]
  },
  {
   "cell_type": "code",
   "execution_count": 10,
   "metadata": {},
   "outputs": [
    {
     "name": "stdout",
     "output_type": "stream",
     "text": [
      "current sum  2\n",
      "max sum  2\n",
      "current sum  -8\n",
      "max sum  2\n",
      "current sum  3\n",
      "max sum  3\n",
      "current sum  7\n",
      "max sum  7\n",
      "current sum  17\n",
      "max sum  17\n",
      "current sum  27\n",
      "max sum  27\n",
      "current sum  17\n",
      "max sum  27\n",
      "current sum  67\n",
      "max sum  67\n",
      "current sum  58\n",
      "max sum  67\n"
     ]
    },
    {
     "data": {
      "text/plain": [
       "67"
      ]
     },
     "execution_count": 10,
     "metadata": {},
     "output_type": "execute_result"
    }
   ],
   "source": [
    "find_largest_sum([1,1,-10,3,4,10,10,-10,50, -9])"
   ]
  }
 ],
 "metadata": {
  "kernelspec": {
   "display_name": "Python 3",
   "language": "python",
   "name": "python3"
  },
  "language_info": {
   "codemirror_mode": {
    "name": "ipython",
    "version": 3
   },
   "file_extension": ".py",
   "mimetype": "text/x-python",
   "name": "python",
   "nbconvert_exporter": "python",
   "pygments_lexer": "ipython3",
   "version": "3.7.4"
  }
 },
 "nbformat": 4,
 "nbformat_minor": 2
}
