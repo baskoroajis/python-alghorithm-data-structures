{
 "cells": [
  {
   "cell_type": "markdown",
   "metadata": {},
   "source": [
    "This is coding for compare decimal of version in python\n",
    "for example :\n",
    "is 1.2.0 is more than 1.1.0\n",
    "\n",
    "the algorithm is :\n",
    "\n",
    "#cast to string both variable\n",
    "#split for point both variable -> add to array based on the point example : 2.0.1 -> [2,0,1], 10.100.1 -> [10,100,1]\n",
    "\n",
    "\n",
    "#logic  is_more_than_latest_version()\n",
    "1. check \"array of\" check_version[0] >  array of v2[0] , if yes -> return true,\n",
    "2. else if \"array of\" check_version[0] =  array of v2[0], then check next element with same condition like step 1.\n",
    "3. else (that's means the value is less than current value)then return false\n",
    "\n",
    "\n"
   ]
  },
  {
   "cell_type": "code",
   "execution_count": 106,
   "metadata": {},
   "outputs": [
    {
     "data": {
      "text/plain": [
       "True"
      ]
     },
     "execution_count": 106,
     "metadata": {},
     "output_type": "execute_result"
    }
   ],
   "source": [
    "def is_more_than_latest(check_version,latest_version):\n",
    "    check_version_list_initial = check_version.split(\".\")\n",
    "    latest_version_list_initial = latest_version.split(\".\")\n",
    "    check_version_list = [x for x in check_version_list_initial if x != \"\"]\n",
    "    latest_version_list = [x for x in latest_version_list_initial if x != \"\"]\n",
    "     \n",
    "    if check_version_list == latest_version_list :\n",
    "        return False\n",
    "   \n",
    "    for a in range(len(check_version_list)):\n",
    "        if a <= len(latest_version_list)-1:\n",
    "            if int(check_version_list[a]) > int(latest_version_list[a]):\n",
    "                return True\n",
    "            elif int(check_version_list[a]) < int(latest_version_list[a]):\n",
    "                return False\n",
    "        else:\n",
    "            return True\n",
    "       \n",
    "    \n",
    "is_more_than_latest(\"4.50.20\", \"4.50.3.100.8\")"
   ]
  },
  {
   "cell_type": "code",
   "execution_count": null,
   "metadata": {},
   "outputs": [],
   "source": []
  },
  {
   "cell_type": "code",
   "execution_count": null,
   "metadata": {},
   "outputs": [],
   "source": []
  },
  {
   "cell_type": "code",
   "execution_count": null,
   "metadata": {},
   "outputs": [],
   "source": []
  }
 ],
 "metadata": {
  "kernelspec": {
   "display_name": "Python 3",
   "language": "python",
   "name": "python3"
  },
  "language_info": {
   "codemirror_mode": {
    "name": "ipython",
    "version": 3
   },
   "file_extension": ".py",
   "mimetype": "text/x-python",
   "name": "python",
   "nbconvert_exporter": "python",
   "pygments_lexer": "ipython3",
   "version": "3.7.4"
  }
 },
 "nbformat": 4,
 "nbformat_minor": 2
}
